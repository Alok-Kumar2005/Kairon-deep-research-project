{
 "cells": [
  {
   "cell_type": "code",
   "execution_count": 8,
   "metadata": {},
   "outputs": [],
   "source": [
    "import os\n",
    "from typing import TypedDict , Annotated , List\n",
    "from langchain_community.tools.tavily_search import TavilySearchResults\n",
    "from langchain_core.messages import HumanMessage\n",
    "from langchain_google_genai import ChatGoogleGenerativeAI\n",
    "from langgraph.graph import StateGraph , END\n",
    "from langchain_core.prompts import ChatPromptTemplate\n",
    "from langchain.agents import create_tool_calling_agent , AgentExecutor\n",
    "\n",
    "import os\n",
    "from dotenv import load_dotenv\n",
    "\n",
    "load_dotenv()\n",
    "\n",
    "os.environ['TAVILY_API_KEY']  = os.getenv('TAVILY_API_KEY')\n",
    "model = 'gemini-1.5-flash'\n",
    "llm = ChatGoogleGenerativeAI(model = model , api_key = os.getenv('GOOGLE_API_KEY'))\n",
    "search_tool = TavilySearchResults(max_results=5)\n",
    "\n",
    "# print(llm.invoke('hi'))\n",
    "\n",
    "class ResearchState(TypedDict):\n",
    "    question:  str\n",
    "    research_data: List[dict]\n",
    "    draft: str\n",
    "\n",
    "\n",
    "## creating research agent\n",
    "research_prompt = ChatPromptTemplate.from_messages([\n",
    "    (\"system\", \"\"\"You are a research assistant. Analyze the user's question and determine what information needs to be gathered.\n",
    "     Use the search tool to collect relevant data. Follow this format:\n",
    "     \n",
    "     Question: {input}\n",
    "     Thought: {agent_scratchpad}\"\"\"),\n",
    "    (\"user\", \"{input}\")\n",
    "])\n",
    "\n",
    "research_agent = create_tool_calling_agent(llm , [search_tool] , research_prompt)\n",
    "research_executer = AgentExecutor(agent = research_agent , tools = [search_tool])\n",
    "\n",
    "\n",
    "## Creating drafting agent\n",
    "draft_prompt = ChatPromptTemplate.from_messages([\n",
    "    (\"system\" , \"\"\" You are an expert writer. make a research data into a clear and give structured answer.\n",
    "     Include all the key poits and relavent answer that are important\"\"\"),\n",
    "    ('user' , \"\"\"Original Question: {question}\n",
    "     Research Data: {research_data}\n",
    "     Create comprehensive answer: \"\"\")\n",
    "])\n",
    "\n",
    "draft_chain = draft_prompt | llm\n",
    "\n",
    "\n",
    "## creating a function of research and draft to make node\n",
    "def research_node(state: ResearchState):\n",
    "    print(\" Searching from Internet ---> \")\n",
    "    result = research_executer.invoke({\"input\": state[\"question\"]})\n",
    "    return {\"research_data\": result[\"output\"]}\n",
    "\n",
    "def draft_node(state: ResearchState):\n",
    "    print(\"drafting answer ---> \")\n",
    "    result = draft_chain.invoke({\n",
    "        \"question\": state[\"question\"],\n",
    "        \"research_data\": state[\"research_data\"]\n",
    "    })\n",
    "    return {\"draft\": result.content}\n",
    "\n",
    "\n",
    "### Graph building\n",
    "workflow = StateGraph(ResearchState)\n",
    "workflow.add_node(\"researcher\", research_node)\n",
    "workflow.add_node(\"drafter\", draft_node)\n",
    "workflow.set_entry_point(\"researcher\")\n",
    "workflow.add_edge(\"researcher\", \"drafter\")\n",
    "workflow.add_edge(\"drafter\", END)\n",
    "research_graph = workflow.compile()\n",
    "\n",
    "### Graph\n",
    "research_graph = workflow.compile() "
   ]
  },
  {
   "cell_type": "code",
   "execution_count": 5,
   "metadata": {},
   "outputs": [],
   "source": [
    "research_graph = workflow.compile()\n"
   ]
  },
  {
   "cell_type": "code",
   "execution_count": 9,
   "metadata": {},
   "outputs": [
    {
     "data": {
      "image/png": "[encoded data removed]",
      "text/plain": [
       "<IPython.core.display.Image object>"
      ]
     },
     "metadata": {},
     "output_type": "display_data"
    }
   ],
   "source": [
    "from IPython.display import Image, display\n",
    "\n",
    "try:\n",
    "    display(Image(research_graph.get_graph().draw_mermaid_png()))\n",
    "except Exception:\n",
    "    # This requires some extra dependencies and is optional\n",
    "    pass"
   ]
  },
  {
   "cell_type": "code",
   "execution_count": null,
   "metadata": {},
   "outputs": [],
   "source": []
  }
 ],
 "metadata": {
  "kernelspec": {
   "display_name": "kairon-venv",
   "language": "python",
   "name": "python3"
  },
  "language_info": {
   "codemirror_mode": {
    "name": "ipython",
    "version": 3
   },
   "file_extension": ".py",
   "mimetype": "text/x-python",
   "name": "python",
   "nbconvert_exporter": "python",
   "pygments_lexer": "ipython3",
   "version": "3.10.16"
  }
 },
 "nbformat": 4,
 "nbformat_minor": 2
}
